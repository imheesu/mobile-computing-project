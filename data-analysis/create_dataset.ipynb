{
 "cells": [
  {
   "cell_type": "code",
   "execution_count": 3,
   "metadata": {},
   "outputs": [],
   "source": [
    "import pandas as pd\n",
    "import numpy as np\n",
    "import datetime as datetime\n",
    "import os\n",
    "from torch.utils.data import Dataset, DataLoader\n",
    "import torch\n",
    "import matplotlib.pyplot as plt\n",
    "import re "
   ]
  },
  {
   "cell_type": "code",
   "execution_count": 4,
   "metadata": {},
   "outputs": [],
   "source": [
    "data_path = './sanitized_data/'\n",
    "annotation_train_path = '../ml/dataset/annotation_train.csv'\n",
    "dataset_train_path = '../ml/dataset/data_train.npy'\n",
    "dataset_test_path = '../ml/dataset/data_test.npy'\n",
    "annotation_test_path = '../ml/dataset/annotation_test.csv'\n",
    "\n",
    "\n",
    "labels = [\"abnormal_arm_swing\", \"abnormal_stride\", \"abnormal_upper_body\", \"good_running_posture\"]\n",
    "annotation_train = pd.DataFrame(columns=['label'])\n",
    "annotation_test = pd.DataFrame(columns=['label'])\n",
    "dataset_train_list = []\n",
    "dataset_test_list = []\n",
    "\n",
    "printed = 0\n",
    "\n",
    "def process_file(file, label):\n",
    "    df = pd.read_csv(os.path.join(data_path, label, file))\n",
    "    ts = re.findall(r'\\d+', file)[0]\n",
    "    gender = df['gender'][0]\n",
    "    height = int(df['height'][0])\n",
    "\n",
    "    # Drop unnecessary columns\n",
    "    df.drop(columns=['timestamp', 'second', 'group', 'gender', 'height'], inplace=True)\n",
    "    # print first 90 rows\n",
    "    # min-max normalization per group ([0~3), [3,6] columns)\n",
    "    df.iloc[:, 0:3] = (df.iloc[:, 0:3]) / (df.iloc[:, 0:3].max())\n",
    "    df.iloc[:, 3:6] = (df.iloc[:, 3:6]) / (df.iloc[:, 3:6].max() )\n",
    "    df.drop(index=0, inplace=True)\n",
    "\n",
    "\n",
    "    # Split dataset into 90 rows\n",
    "    for i in range(len(df) - 90):\n",
    "        yield df.iloc[i:i+90].values, label, height\n"
   ]
  },
  {
   "cell_type": "code",
   "execution_count": 5,
   "metadata": {},
   "outputs": [
    {
     "name": "stdout",
     "output_type": "stream",
     "text": [
      "abnormal_arm_swing\n",
      "1699943632083_result.csv\n"
     ]
    },
    {
     "ename": "NameError",
     "evalue": "name 'height' is not defined",
     "output_type": "error",
     "traceback": [
      "\u001b[1;31m---------------------------------------------------------------------------\u001b[0m",
      "\u001b[1;31mNameError\u001b[0m                                 Traceback (most recent call last)",
      "\u001b[1;32mc:\\Users\\heesu\\univ\\2023-2\\mobile-computing\\mobile-computing-project\\data-analysis\\create_dataset.ipynb Cell 3\u001b[0m line \u001b[0;36m9\n\u001b[0;32m      <a href='vscode-notebook-cell:/c%3A/Users/heesu/univ/2023-2/mobile-computing/mobile-computing-project/data-analysis/create_dataset.ipynb#W2sZmlsZQ%3D%3D?line=6'>7</a>\u001b[0m progress \u001b[39m=\u001b[39m np\u001b[39m.\u001b[39mrandom\u001b[39m.\u001b[39mrandom()\n\u001b[0;32m      <a href='vscode-notebook-cell:/c%3A/Users/heesu/univ/2023-2/mobile-computing/mobile-computing-project/data-analysis/create_dataset.ipynb#W2sZmlsZQ%3D%3D?line=7'>8</a>\u001b[0m \u001b[39mfor\u001b[39;00m data, lbl, q \u001b[39min\u001b[39;00m process_file(file, label):\n\u001b[1;32m----> <a href='vscode-notebook-cell:/c%3A/Users/heesu/univ/2023-2/mobile-computing/mobile-computing-project/data-analysis/create_dataset.ipynb#W2sZmlsZQ%3D%3D?line=8'>9</a>\u001b[0m     \u001b[39mif\u001b[39;00m height \u001b[39m<\u001b[39m \u001b[39m179\u001b[39m:\n\u001b[0;32m     <a href='vscode-notebook-cell:/c%3A/Users/heesu/univ/2023-2/mobile-computing/mobile-computing-project/data-analysis/create_dataset.ipynb#W2sZmlsZQ%3D%3D?line=9'>10</a>\u001b[0m         dataset_train_list\u001b[39m.\u001b[39mappend(data)\n\u001b[0;32m     <a href='vscode-notebook-cell:/c%3A/Users/heesu/univ/2023-2/mobile-computing/mobile-computing-project/data-analysis/create_dataset.ipynb#W2sZmlsZQ%3D%3D?line=10'>11</a>\u001b[0m         annotation_train\u001b[39m.\u001b[39mloc[\u001b[39mlen\u001b[39m(annotation_train)] \u001b[39m=\u001b[39m label_idx\n",
      "\u001b[1;31mNameError\u001b[0m: name 'height' is not defined"
     ]
    }
   ],
   "source": [
    "for label_idx, label in enumerate(labels):\n",
    "    print(label)\n",
    "    files = [f for f in os.listdir(os.path.join(data_path, label)) if f != '.DS_Store']\n",
    "    for file in files:\n",
    "        print(file)\n",
    "        # random between 0~1\n",
    "        progress = np.random.random()\n",
    "        for data, lbl, q in process_file(file, label):\n",
    "            if q < 179:\n",
    "                dataset_train_list.append(data)\n",
    "                annotation_train.loc[len(annotation_train)] = label_idx\n",
    "            else:\n",
    "                dataset_test_list.append(data)\n",
    "                annotation_test.loc[len(annotation_test)] = label_idx\n",
    "\n",
    "# Convert list to numpy array\n",
    "dataset_train_arr = np.array(dataset_train_list)\n",
    "dataset_test_arr = np.array(dataset_test_list)\n",
    "annotation_train.to_csv(annotation_train_path, index=False, header=False)\n",
    "annotation_test.to_csv(annotation_test_path, index=False, header=False)\n",
    "np.save(dataset_train_path, dataset_train_arr)\n",
    "np.save(dataset_test_path, dataset_test_arr)\n"
   ]
  },
  {
   "cell_type": "code",
   "execution_count": 130,
   "metadata": {},
   "outputs": [
    {
     "name": "stdout",
     "output_type": "stream",
     "text": [
      "(21342, 90, 6)\n",
      "(72567, 90, 6)\n"
     ]
    }
   ],
   "source": [
    "# show shape of ml/dataset/data.npy\n",
    "print(dataset_test_arr.shape)\n",
    "print(dataset_train_arr.shape)"
   ]
  },
  {
   "cell_type": "code",
   "execution_count": 117,
   "metadata": {},
   "outputs": [],
   "source": [
    "class RunningDataset(Dataset):\n",
    "    def __init__(self,annotation_path, dataset_path, transform=None):\n",
    "        self.transform = transform\n",
    "        self.labels = pd.read_csv(annotation_path, header=None)\n",
    "        self.data = np.load(dataset_path)\n",
    "\n",
    "        print (self.data.shape)\n",
    "        print (self.labels.shape)\n",
    "    \n",
    "    def __len__(self):\n",
    "        return len(self.data)\n",
    "    \n",
    "    def __getitem__(self, idx):\n",
    "        sample = self.data[idx]\n",
    "        label = self.labels.iloc[idx,0]\n",
    "        label = torch.tensor(label, dtype=torch.int)\n",
    "\n",
    "        if self.transform:\n",
    "            sample = self.transform(sample)\n",
    "        \n",
    "        return sample, label\n"
   ]
  },
  {
   "cell_type": "code",
   "execution_count": 122,
   "metadata": {},
   "outputs": [
    {
     "name": "stdout",
     "output_type": "stream",
     "text": [
      "(56379, 90, 6)\n",
      "(56379, 1)\n",
      "(37530, 90, 6)\n",
      "(37530, 1)\n",
      "[inputs] dtype: torch.float64, shape: torch.Size([100, 90, 6])\n",
      "[targets] dtype: torch.int32, shape: torch.Size([100])\n",
      "[inputs] dtype: torch.float64, shape: torch.Size([100, 90, 6])\n",
      "[targets] dtype: torch.int32, shape: torch.Size([100])\n",
      "Feature batch shape: torch.Size([100, 90, 6])\n",
      "Labels batch shape: torch.Size([100])\n"
     ]
    }
   ],
   "source": [
    "train_dataset = RunningDataset(annotation_train_path, dataset_train_path)\n",
    "test_dataset = RunningDataset(annotation_test_path, dataset_test_path)\n",
    "\n",
    "train_dataloader = DataLoader(\n",
    "    dataset=train_dataset,\n",
    "    batch_size=100,\n",
    "    num_workers=0,\n",
    "    pin_memory=True,\n",
    "    shuffle=True,\n",
    ")\n",
    "\n",
    "test_dataloader = DataLoader(\n",
    "    dataset=test_dataset,\n",
    "    batch_size=100,\n",
    "    num_workers=0,\n",
    "    pin_memory=True,\n",
    "    shuffle=True,\n",
    ")\n",
    "\n",
    "for inputs, targets in train_dataloader:\n",
    "    print(\"[inputs] dtype: {}, shape: {}\".format(inputs.dtype, inputs.shape))\n",
    "    print(\"[targets] dtype: {}, shape: {}\".format(targets.dtype, targets.shape))\n",
    "    break\n",
    "\n",
    "for inputs, targets in test_dataloader:\n",
    "    print(\"[inputs] dtype: {}, shape: {}\".format(inputs.dtype, inputs.shape))\n",
    "    print(\"[targets] dtype: {}, shape: {}\".format(targets.dtype, targets.shape))\n",
    "    break\n",
    "\n",
    "train_features, train_labels = next(iter(train_dataloader))\n",
    "print(f\"Feature batch shape: {train_features.size()}\")\n",
    "print(f\"Labels batch shape: {train_labels.size()}\")"
   ]
  }
 ],
 "metadata": {
  "kernelspec": {
   "display_name": "Python 3.11 (torch)",
   "language": "python",
   "name": "pytorch"
  },
  "language_info": {
   "codemirror_mode": {
    "name": "ipython",
    "version": 3
   },
   "file_extension": ".py",
   "mimetype": "text/x-python",
   "name": "python",
   "nbconvert_exporter": "python",
   "pygments_lexer": "ipython3",
   "version": "3.11.5"
  }
 },
 "nbformat": 4,
 "nbformat_minor": 2
}
